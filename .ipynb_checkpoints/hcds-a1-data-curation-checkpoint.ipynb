{
 "cells": [
  {
   "cell_type": "markdown",
   "metadata": {},
   "source": [
    "## Standard Imports"
   ]
  },
  {
   "cell_type": "code",
   "execution_count": 3,
   "metadata": {},
   "outputs": [],
   "source": [
    "import datetime as dt\n",
    "import json\n",
    "import requests\n",
    "\n",
    "import numpy as np\n",
    "import pandas as pd\n",
    "import matplotlib.pyplot as plt"
   ]
  },
  {
   "cell_type": "markdown",
   "metadata": {},
   "source": [
    "## Step 1: Data acquisition"
   ]
  },
  {
   "cell_type": "code",
   "execution_count": 68,
   "metadata": {},
   "outputs": [],
   "source": [
    "# First define the endpoints. We use two APIs to \n",
    "# acquire the data, the legacy and the pageviews API\n",
    "\n",
    "endpoint_legacy = 'https://wikimedia.org/api/rest_v1/\\\n",
    "                  metrics/legacy/pagecounts/aggregate/\\\n",
    "                  {project}/{access-site}/{granularity}/{start}/{end}'\n",
    "\n",
    "endpoint_pageviews = 'https://wikimedia.org/api/rest_v1/metrics/pageviews/aggregate/{project}/{access}/{agent}/{granularity}/{start}/{end}'"
   ]
  },
  {
   "cell_type": "markdown",
   "metadata": {},
   "source": [
    "We first access the data from the legacy pagecounts API and save it as two seperate JSON files. "
   ]
  },
  {
   "cell_type": "code",
   "execution_count": 39,
   "metadata": {},
   "outputs": [],
   "source": [
    "# The end_date is the last date for which the pagecounts\n",
    "# API provides data. The pageviews API replaced the pagecounts\n",
    "# API.\n",
    "end_date = '2016073100' \n",
    "\n",
    "# The date when the API was created.\n",
    "start_date = '2008010100' "
   ]
  },
  {
   "cell_type": "markdown",
   "metadata": {},
   "source": [
    "We need two accesses. One for the legacy pagecount desktop site traffic and one for the mobile site traffic. "
   ]
  },
  {
   "cell_type": "code",
   "execution_count": 48,
   "metadata": {},
   "outputs": [],
   "source": [
    "# Define the parameter dictionary that contains the \n",
    "# parameters that need to be sent to the API\n",
    "\n",
    "params = {'project' : 'en.wikipedia.org',\n",
    "            'access-site' : 'desktop-site',\n",
    "            'granularity' : 'monthly',\n",
    "            'start' : '2008070100',\n",
    "            'end' : '2016080100'\n",
    "            }"
   ]
  },
  {
   "cell_type": "code",
   "execution_count": 50,
   "metadata": {},
   "outputs": [],
   "source": [
    "# Getting desktop-data from the legacy API\n",
    "api_call = requests.get(endpoint.format(**params))\n",
    "response = api_call.json()\n",
    "\n",
    "# Writing JSON data to a file\n",
    "fileName= open('pagecounts_desktop-site_200801-201607.json', 'w')\n",
    "json.dump(response, fileName, indent = 4)\n",
    "fileName.close()"
   ]
  },
  {
   "cell_type": "code",
   "execution_count": 51,
   "metadata": {},
   "outputs": [],
   "source": [
    "# Getting mobile-site traffic data from the API\n",
    "params['access-site'] = 'mobile-site'\n",
    "api_call = requests.get(endpoint.format(**params))\n",
    "response = api_call.json()\n",
    "\n",
    "# Writing JSON data to a file\n",
    "fileName= open('pagecounts_mobile-site_200801-201607.json', 'w')\n",
    "json.dump(response, fileName, indent = 4)\n",
    "fileName.close()"
   ]
  },
  {
   "cell_type": "markdown",
   "metadata": {},
   "source": [
    "The next step is getting the data from the newer, more versatile Pageviews API. The pageviews API allows us to filter out data from spiders and only get traffic from actual users. "
   ]
  },
  {
   "cell_type": "code",
   "execution_count": 70,
   "metadata": {},
   "outputs": [],
   "source": [
    "# Define the parameters dictionary that will be passed \n",
    "# to the API\n",
    "\n",
    "params = {'project' : 'en.wikipedia.org',\n",
    "            'access' : 'desktop',\n",
    "            'agent' : 'user',\n",
    "            'granularity' : 'monthly',\n",
    "            'start' : '2015070100',\n",
    "            'end' : '2018100100'\n",
    "            }\n",
    "\n",
    "headers = {\n",
    "    'User-Agent': 'https://github.com/tejasmhos',\n",
    "    'From': 'tejash@uw.edu'\n",
    "}"
   ]
  },
  {
   "cell_type": "code",
   "execution_count": 71,
   "metadata": {},
   "outputs": [],
   "source": [
    "# Getting Desktop traffic data from Pageviews\n",
    "api_call = requests.get(endpoint_pageviews.format(**params))\n",
    "response = api_call.json()\n",
    "fileName= open('pageviews_desktop_201507-201810.json', 'w')\n",
    "json.dump(response, fileName, indent = 4)\n",
    "fileName.close()"
   ]
  },
  {
   "cell_type": "code",
   "execution_count": 72,
   "metadata": {
    "scrolled": true
   },
   "outputs": [],
   "source": [
    "# Getting Mobile-App traffic data from Pageviews API\n",
    "params['access'] = 'mobile-app'\n",
    "api_call = requests.get(endpoint_pageviews.format(**params))\n",
    "response = api_call.json()\n",
    "fileName= open('pageviews_mobile-app_201507-201810.json', 'w')\n",
    "json.dump(response, fileName, indent = 4)\n",
    "fileName.close()"
   ]
  },
  {
   "cell_type": "code",
   "execution_count": 73,
   "metadata": {},
   "outputs": [],
   "source": [
    "# Getting Mobile-web traffic data from Pageviews API\n",
    "params['access'] = 'mobile-web'\n",
    "api_call = requests.get(endpoint_pageviews.format(**params))\n",
    "response = api_call.json()\n",
    "fileName= open('pageviews_mobile-web_201507-201810.json', 'w')\n",
    "json.dump(response, fileName, indent = 4)\n",
    "fileName.close()"
   ]
  },
  {
   "cell_type": "code",
   "execution_count": null,
   "metadata": {},
   "outputs": [],
   "source": []
  }
 ],
 "metadata": {
  "kernelspec": {
   "display_name": "Python 3",
   "language": "python",
   "name": "python3"
  },
  "language_info": {
   "codemirror_mode": {
    "name": "ipython",
    "version": 3
   },
   "file_extension": ".py",
   "mimetype": "text/x-python",
   "name": "python",
   "nbconvert_exporter": "python",
   "pygments_lexer": "ipython3",
   "version": "3.6.4"
  }
 },
 "nbformat": 4,
 "nbformat_minor": 2
}
